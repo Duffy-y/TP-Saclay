{
 "cells": [
  {
   "cell_type": "code",
   "execution_count": 2,
   "metadata": {},
   "outputs": [],
   "source": [
    "import numpy as np\n",
    "import matplotlib.pyplot as plt\n",
    "from uncertainties import ufloat, unumpy, umath"
   ]
  },
  {
   "cell_type": "code",
   "execution_count": 12,
   "metadata": {},
   "outputs": [
    {
     "name": "stdout",
     "output_type": "stream",
     "text": [
      "[76.10451125668781+/-3.8952263956291375\n",
      " 91.32541350802538+/-4.678631278666579\n",
      " 114.15676688503171+/-5.858307885773335\n",
      " 152.20902251337563+/-7.8398601758772735\n",
      " 228.31353377006343+/-11.882281572398004\n",
      " 304.41804502675126+/-16.068904021772827\n",
      " 456.62706754012686+/-25.046096404551456]\n"
     ]
    }
   ],
   "source": [
    "m = ufloat(250, 0.1) * 10**(-3)\n",
    "L = ufloat(40, 0.2) * 10**(-2)\n",
    "l = ufloat(9.6, 0.2) * 10**(-2)\n",
    "d = ufloat(2, 0.2) * 10**(-2)\n",
    "\n",
    "g = 9.81\n",
    "rho = 7.8 * 10**3\n",
    "\n",
    "S = np.pi * (0.48/2)**2 * 10**(-6)\n",
    "\n",
    "\n",
    "L = unumpy.uarray([60, 50, 40, 30, 20, 15, 10], std_devs=0.2) * 10**(-2)\n",
    "\n",
    "def frequence_nu(n):\n",
    "    return n/(2 * L) * umath.sqrt(m * l * g / (d * rho * S))\n",
    "\n",
    "print(frequence_nu(1))\n"
   ]
  },
  {
   "cell_type": "code",
   "execution_count": 9,
   "metadata": {},
   "outputs": [
    {
     "name": "stdout",
     "output_type": "stream",
     "text": [
      "11.8+/-1.2\n"
     ]
    }
   ],
   "source": [
    "T = m * l * g / d\n",
    "print(T)"
   ]
  },
  {
   "cell_type": "code",
   "execution_count": null,
   "metadata": {},
   "outputs": [],
   "source": []
  }
 ],
 "metadata": {
  "kernelspec": {
   "display_name": "Python 3",
   "language": "python",
   "name": "python3"
  },
  "language_info": {
   "codemirror_mode": {
    "name": "ipython",
    "version": 3
   },
   "file_extension": ".py",
   "mimetype": "text/x-python",
   "name": "python",
   "nbconvert_exporter": "python",
   "pygments_lexer": "ipython3",
   "version": "3.10.4"
  },
  "orig_nbformat": 4
 },
 "nbformat": 4,
 "nbformat_minor": 2
}
