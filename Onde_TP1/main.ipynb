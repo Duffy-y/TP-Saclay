{
 "cells": [
  {
   "cell_type": "code",
   "execution_count": 1,
   "metadata": {},
   "outputs": [],
   "source": [
    "import ldd\n",
    "import numpy as np\n",
    "import matplotlib.pyplot as plt\n",
    "from uncertainties import ufloat, unumpy, umath"
   ]
  },
  {
   "cell_type": "code",
   "execution_count": 4,
   "metadata": {},
   "outputs": [
    {
     "name": "stdout",
     "output_type": "stream",
     "text": [
      "lambda=0.00930+/-0.00028 | nu=(3.79+/-0.09)e+04 | speed=352+/-13\n"
     ]
    }
   ],
   "source": [
    "err = 0.2\n",
    "\n",
    "# Protocole 1\n",
    "position_recepteur_1 = unumpy.uarray([0.5, 1.5, 2.4, 3.3, 4.3, 5.2, 6.1, 7, 8, 8.9, 9.8], std_devs=err) * 10**(-2)\n",
    "\n",
    "# Protocole 2\n",
    "position_recepteur_fixe = ufloat(0, std_dev=err)\n",
    "position_recepteur_mobile = unumpy.uarray([0.9, 1.9, 2.8, 3.7, 4.6, 5.5, 6.5, 7.4, 8.3, 9.2], std_devs=err) * 10**(-2)\n",
    "\n",
    "# Script\n",
    "distance_protocole_1 = np.abs(position_recepteur_1[1:] - position_recepteur_1[:-1])\n",
    "distance_protocole_2 = np.abs(position_recepteur_mobile[1:] - position_recepteur_mobile[:-1])\n",
    "\n",
    "distance = np.concatenate((distance_protocole_1, distance_protocole_2))\n",
    "\n",
    "wavelength = np.mean(distance_protocole_1)\n",
    "\n",
    "    \n",
    "nu = ufloat((38.76 + 37.04)/2, std_dev=(38.76 - 37.04)/2) * 10**3\n",
    "sound_speed = wavelength * nu\n",
    "\n",
    "print(f\"lambda={wavelength} | nu={nu} | speed={sound_speed}\")\n"
   ]
  },
  {
   "cell_type": "code",
   "execution_count": 8,
   "metadata": {},
   "outputs": [
    {
     "name": "stdout",
     "output_type": "stream",
     "text": [
      "[0.0009765625+/-0.0006103515625 0.18970108032226562+/-0.00850677490234375\n",
      " 0.0495758056640625+/-0.0043487548828125 0.006103515625+/-0.00152587890625\n",
      " 0.34332275390625+/-0.011444091796875]\n",
      "[0.265869140625+/-0.01007080078125\n",
      " 0.007053375244140625+/-0.00164031982421875\n",
      " 0.00029541015625000005+/-0.000335693359375\n",
      " 0.002384185791015625+/-0.00095367431640625\n",
      " 0.0308990478515625+/-0.0034332275390625]\n",
      "[0.266845703125+/-0.01008927933033236\n",
      " 0.19675445556640625+/-0.008663478998928234\n",
      " 0.0498712158203125+/-0.004361692224620397\n",
      " 0.008487701416015625+/-0.0017993891014207084\n",
      " 0.3742218017578125+/-0.01194798260754839]\n",
      "$0.26587 \\pm 0.01007$ & $0.00098 \\pm 0.00061$ & $0.26685 \\pm 0.01009$ \\\\ \n",
      "$0.00705 \\pm 0.00164$ & $0.18970 \\pm 0.00851$ & $0.19675 \\pm 0.00866$ \\\\ \n",
      "$0.00030 \\pm 0.00034$ & $0.04958 \\pm 0.00435$ & $0.04987 \\pm 0.00436$ \\\\ \n",
      "$0.00238 \\pm 0.00095$ & $0.00610 \\pm 0.00153$ & $0.00849 \\pm 0.00180$ \\\\ \n",
      "$0.03090 \\pm 0.00343$ & $0.34332 \\pm 0.01144$ & $0.37422 \\pm 0.01195$ \\\\ \n",
      "\n"
     ]
    }
   ],
   "source": [
    "incidente = 512\n",
    "\n",
    "transmise = unumpy.uarray([16, 223, 114, 40, 300], std_devs=5)\n",
    "reflechie = unumpy.uarray([264, 43, 8.80, 25, 90], std_devs=5)\n",
    "\n",
    "T = transmise**2 / incidente **2\n",
    "R = reflechie**2 / incidente **2\n",
    "R_T = R + T\n",
    "print(T)\n",
    "print(R)\n",
    "print(R_T)\n",
    "\n",
    "string = \"\"\n",
    "\n",
    "for r, t, r_t in zip(R, T, R_T):\n",
    "    string += f\"${r.nominal_value:.5f} \\pm {r.std_dev:.5f}$ & ${t.nominal_value:.5f} \\pm {t.std_dev:.5f}$ & ${r_t.nominal_value:.5f} \\pm {r_t.std_dev:.5f}$ \\\\\\\\ \\n\"\n",
    "    \n",
    "print(string)"
   ]
  },
  {
   "cell_type": "code",
   "execution_count": null,
   "metadata": {},
   "outputs": [],
   "source": []
  }
 ],
 "metadata": {
  "kernelspec": {
   "display_name": "Python 3",
   "language": "python",
   "name": "python3"
  },
  "language_info": {
   "codemirror_mode": {
    "name": "ipython",
    "version": 3
   },
   "file_extension": ".py",
   "mimetype": "text/x-python",
   "name": "python",
   "nbconvert_exporter": "python",
   "pygments_lexer": "ipython3",
   "version": "3.10.4"
  },
  "orig_nbformat": 4,
  "vscode": {
   "interpreter": {
    "hash": "bbc3c3d932324566a9bf4b4a52ddf64063695fc3adbf25b3fda92572428493bb"
   }
  }
 },
 "nbformat": 4,
 "nbformat_minor": 2
}
