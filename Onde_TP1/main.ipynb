{
 "cells": [
  {
   "cell_type": "code",
   "execution_count": 1,
   "metadata": {},
   "outputs": [],
   "source": [
    "import ldd\n",
    "import numpy as np\n",
    "import matplotlib.pyplot as plt\n",
    "from uncertainties import ufloat, unumpy"
   ]
  },
  {
   "cell_type": "code",
   "execution_count": 9,
   "metadata": {},
   "outputs": [
    {
     "name": "stdout",
     "output_type": "stream",
     "text": [
      "[2.45+/-3.7496838136924796e-16]\n"
     ]
    },
    {
     "data": {
      "image/png": "[encoded data removed]",
      "text/plain": [
       "<Figure size 640x480 with 1 Axes>"
      ]
     },
     "metadata": {},
     "output_type": "display_data"
    }
   ],
   "source": [
    "err = 0.1\n",
    "position_emetteur = ufloat(0, std_dev=0)\n",
    "\n",
    "# Protocole 1\n",
    "position_recepteur_1 = unumpy.uarray([2.45, 5.03, 7.54], std_devs=err)\n",
    "\n",
    "# Protocole 2\n",
    "position_recepteur_fixe = ufloat(0, std_dev=0)\n",
    "position_recepteur_mobile = unumpy.uarray([2.49, 4.89,10.02], std_devs=err)\n",
    "\n",
    "# Script\n",
    "distance_protocole_1 = np.abs(position_recepteur_1 - position_emetteur)\n",
    "distance_protocole_2 = np.abs(position_recepteur_fixe - position_recepteur_mobile)\n",
    "\n",
    "distance = np.concatenate((distance_protocole_1, distance_protocole_2))\n",
    "distance = np.sort(distance)\n",
    "\n",
    "n = distance / ufloat(np.min(distance).nominal_value, std_dev=err)\n",
    "\n",
    "ldd.plot_error(n, distance, label=\"Valeurs expérimentales\", fmt=\"o\")\n",
    "\n",
    "(a) = ldd.odr_fit(ldd.linear_function, n, distance, p0=[1])\n",
    "\n",
    "print(a)"
   ]
  },
  {
   "cell_type": "code",
   "execution_count": null,
   "metadata": {},
   "outputs": [],
   "source": []
  }
 ],
 "metadata": {
  "kernelspec": {
   "display_name": "Python 3",
   "language": "python",
   "name": "python3"
  },
  "language_info": {
   "codemirror_mode": {
    "name": "ipython",
    "version": 3
   },
   "file_extension": ".py",
   "mimetype": "text/x-python",
   "name": "python",
   "nbconvert_exporter": "python",
   "pygments_lexer": "ipython3",
   "version": "3.10.5"
  },
  "orig_nbformat": 4,
  "vscode": {
   "interpreter": {
    "hash": "bbc3c3d932324566a9bf4b4a52ddf64063695fc3adbf25b3fda92572428493bb"
   }
  }
 },
 "nbformat": 4,
 "nbformat_minor": 2
}
