{
 "cells": [
  {
   "cell_type": "code",
   "execution_count": 1,
   "metadata": {},
   "outputs": [],
   "source": [
    "import ldd\n",
    "import numpy as np\n",
    "import matplotlib.pyplot as plt\n",
    "from uncertainties import ufloat, unumpy, umath"
   ]
  },
  {
   "cell_type": "code",
   "execution_count": 22,
   "metadata": {},
   "outputs": [
    {
     "name": "stdout",
     "output_type": "stream",
     "text": [
      "0.001516680587523375\n",
      "0.009263157894736845\n",
      "0.00926+/-0.00021\n",
      "0.00926+/-0.00021\n",
      "0.00926+/-0.00021\n",
      "lambda=0.00930+/-0.00028 | nu=(3.79+/-0.09)e+04 | speed=352+/-13, myspeed=(3.5+/-0.6)e+02\n"
     ]
    }
   ],
   "source": [
    "err = 0.2\n",
    "\n",
    "# Protocole 1\n",
    "position_recepteur_1 = unumpy.uarray([0.5, 1.5, 2.4, 3.3, 4.3, 5.2, 6.1, 7, 8, 8.9, 9.8], std_devs=err) * 10**(-2)\n",
    "\n",
    "# Protocole 2\n",
    "position_recepteur_fixe = ufloat(0, std_dev=err)\n",
    "position_recepteur_mobile = unumpy.uarray([0.9, 1.9, 2.8, 3.7, 4.6, 5.5, 6.5, 7.4, 8.3, 9.2], std_devs=err) * 10**(-2)\n",
    "\n",
    "# Script\n",
    "distance_protocole_1 = np.abs(position_recepteur_1[1:] - position_recepteur_1[:-1])\n",
    "distance_protocole_2 = np.abs(position_recepteur_mobile[1:] - position_recepteur_mobile[:-1])\n",
    "\n",
    "distance = np.concatenate((distance_protocole_1, distance_protocole_2))\n",
    "\n",
    "wavelength = np.mean(distance_protocole_1)\n",
    "\n",
    "N = len(distance)\n",
    "std = 0\n",
    "mean = 0\n",
    "\n",
    "for val in distance:\n",
    "    mean += val.nominal_value\n",
    "    \n",
    "mean /= N\n",
    "\n",
    "for val in distance:\n",
    "    std += (val.std_dev - mean)**2\n",
    "\n",
    "std = np.sqrt(1/(N*(N-1)) * std)\n",
    "print(std)\n",
    "print(mean)\n",
    "\n",
    "\n",
    "    \n",
    "nu = ufloat((38.76 + 37.04)/2, std_dev=(38.76 - 37.04)/2) * 10**3\n",
    "sound_speed = wavelength * nu\n",
    "\n",
    "print(f\"lambda={wavelength} | nu={nu} | speed={sound_speed}, myspeed={L * nu}\")\n"
   ]
  },
  {
   "cell_type": "code",
   "execution_count": 23,
   "metadata": {},
   "outputs": [
    {
     "name": "stdout",
     "output_type": "stream",
     "text": [
      "[0.00097656 0.18970108 0.04957581 0.00610352 0.34332275]\n",
      "[0.26586914 0.00705338 0.00029541 0.00238419 0.03089905]\n",
      "[0.2668457  0.19675446 0.04987122 0.0084877  0.3742218 ]\n"
     ]
    }
   ],
   "source": [
    "incidente = 512\n",
    "\n",
    "transmise = np.array([16, 223, 114, 40, 300])\n",
    "reflechie = np.array([264, 43, 8.80, 25, 90])\n",
    "\n",
    "T = transmise**2 / incidente **2\n",
    "R = reflechie**2 / incidente **2\n",
    "R_T = R + T\n",
    "print(T)\n",
    "print(R)\n",
    "print(R_T)"
   ]
  },
  {
   "cell_type": "code",
   "execution_count": 27,
   "metadata": {},
   "outputs": [
    {
     "name": "stdout",
     "output_type": "stream",
     "text": [
      "325+/-8\n"
     ]
    }
   ],
   "source": [
    "d = unumpy.uarray([40, 50, 30], std_devs=0.2) * 10**(-2)\n",
    "dt = unumpy.uarray([2.44, 3.04, 1.88], std_devs=0.1) * 10**(-3)\n",
    "\n",
    "c = 2*d/dt\n",
    "\n",
    "print(np.mean(c))"
   ]
  },
  {
   "cell_type": "code",
   "execution_count": 28,
   "metadata": {},
   "outputs": [
    {
     "name": "stdout",
     "output_type": "stream",
     "text": [
      "343.6+/-1.8\n"
     ]
    }
   ],
   "source": [
    "T = ufloat(20, std_dev=3)\n",
    "\n",
    "print(331.5 + 0.607 * T)"
   ]
  },
  {
   "cell_type": "code",
   "execution_count": 29,
   "metadata": {},
   "outputs": [],
   "source": [
    "import array_to_latex"
   ]
  },
  {
   "cell_type": "code",
   "execution_count": 30,
   "metadata": {},
   "outputs": [
    {
     "ename": "TypeError",
     "evalue": "issubclass() arg 1 must be a class",
     "output_type": "error",
     "traceback": [
      "\u001b[1;31m---------------------------------------------------------------------------\u001b[0m",
      "\u001b[1;31mTypeError\u001b[0m                                 Traceback (most recent call last)",
      "\u001b[1;32mn:\\Github\\TP-Saclay\\Onde_TP1\\main.ipynb Cell 7\u001b[0m in \u001b[0;36m<cell line: 1>\u001b[1;34m()\u001b[0m\n\u001b[1;32m----> <a href='vscode-notebook-cell:/n%3A/Github/TP-Saclay/Onde_TP1/main.ipynb#W6sZmlsZQ%3D%3D?line=0'>1</a>\u001b[0m \u001b[39mprint\u001b[39m(array_to_latex\u001b[39m.\u001b[39;49mto_ltx(distance))\n",
      "File \u001b[1;32mc:\\Users\\alexa\\AppData\\Local\\Programs\\Python\\Python310\\lib\\site-packages\\array_to_latex\\__init__.py:360\u001b[0m, in \u001b[0;36mto_ltx\u001b[1;34m(a, frmt, arraytype, nargout, imstring, row, mathform, print_out)\u001b[0m\n\u001b[0;32m    358\u001b[0m     \u001b[39mif\u001b[39;00m arraytype \u001b[39mis\u001b[39;00m \u001b[39mNone\u001b[39;00m:\n\u001b[0;32m    359\u001b[0m         arraytype \u001b[39m=\u001b[39m \u001b[39m'\u001b[39m\u001b[39mbmatrix\u001b[39m\u001b[39m'\u001b[39m\n\u001b[1;32m--> 360\u001b[0m     latex \u001b[39m=\u001b[39m _numpyarraytolatex(a, frmt\u001b[39m=\u001b[39;49mfrmt, arraytype\u001b[39m=\u001b[39;49marraytype,\n\u001b[0;32m    361\u001b[0m                                nargout\u001b[39m=\u001b[39;49mnargout, imstring\u001b[39m=\u001b[39;49mimstring,\n\u001b[0;32m    362\u001b[0m                                row\u001b[39m=\u001b[39;49mrow, mathform\u001b[39m=\u001b[39;49mmathform)\n\u001b[0;32m    364\u001b[0m \u001b[39melif\u001b[39;00m \u001b[39misinstance\u001b[39m(a, _pd\u001b[39m.\u001b[39mcore\u001b[39m.\u001b[39mframe\u001b[39m.\u001b[39mDataFrame):\n\u001b[0;32m    366\u001b[0m     \u001b[39mif\u001b[39;00m arraytype \u001b[39mis\u001b[39;00m \u001b[39mNone\u001b[39;00m:\n",
      "File \u001b[1;32mc:\\Users\\alexa\\AppData\\Local\\Programs\\Python\\Python310\\lib\\site-packages\\array_to_latex\\__init__.py:145\u001b[0m, in \u001b[0;36m_numpyarraytolatex\u001b[1;34m(a, frmt, arraytype, nargout, imstring, row, mathform)\u001b[0m\n\u001b[0;32m    143\u001b[0m \u001b[39melse\u001b[39;00m:\n\u001b[0;32m    144\u001b[0m     dot_space \u001b[39m=\u001b[39m \u001b[39m'\u001b[39m\u001b[39m'\u001b[39m\n\u001b[1;32m--> 145\u001b[0m \u001b[39mif\u001b[39;00m _np\u001b[39m.\u001b[39;49miscomplexobj(a[i, j]):\n\u001b[0;32m    146\u001b[0m     out \u001b[39m=\u001b[39m (out \u001b[39m+\u001b[39m leadstr\n\u001b[0;32m    147\u001b[0m            \u001b[39m+\u001b[39m math_form(frmt\u001b[39m.\u001b[39mformat(_np\u001b[39m.\u001b[39mreal(a[i, j])),\n\u001b[0;32m    148\u001b[0m                        mathform\u001b[39m=\u001b[39mmathform)\n\u001b[1;32m   (...)\u001b[0m\n\u001b[0;32m    153\u001b[0m            \u001b[39m+\u001b[39m imstring\n\u001b[0;32m    154\u001b[0m            \u001b[39m+\u001b[39m dot_space \u001b[39m+\u001b[39m \u001b[39m'\u001b[39m\u001b[39m & \u001b[39m\u001b[39m'\u001b[39m)\n\u001b[0;32m    155\u001b[0m \u001b[39melse\u001b[39;00m:\n",
      "File \u001b[1;32m<__array_function__ internals>:180\u001b[0m, in \u001b[0;36miscomplexobj\u001b[1;34m(*args, **kwargs)\u001b[0m\n",
      "File \u001b[1;32mc:\\Users\\alexa\\AppData\\Local\\Programs\\Python\\Python310\\lib\\site-packages\\numpy\\lib\\type_check.py:341\u001b[0m, in \u001b[0;36miscomplexobj\u001b[1;34m(x)\u001b[0m\n\u001b[0;32m    339\u001b[0m \u001b[39mexcept\u001b[39;00m \u001b[39mAttributeError\u001b[39;00m:\n\u001b[0;32m    340\u001b[0m     type_ \u001b[39m=\u001b[39m asarray(x)\u001b[39m.\u001b[39mdtype\u001b[39m.\u001b[39mtype\n\u001b[1;32m--> 341\u001b[0m \u001b[39mreturn\u001b[39;00m \u001b[39missubclass\u001b[39;49m(type_, _nx\u001b[39m.\u001b[39;49mcomplexfloating)\n",
      "\u001b[1;31mTypeError\u001b[0m: issubclass() arg 1 must be a class"
     ]
    }
   ],
   "source": [
    "print(array_to_latex.to_ltx(distance))"
   ]
  },
  {
   "cell_type": "code",
   "execution_count": null,
   "metadata": {},
   "outputs": [],
   "source": []
  }
 ],
 "metadata": {
  "kernelspec": {
   "display_name": "Python 3",
   "language": "python",
   "name": "python3"
  },
  "language_info": {
   "codemirror_mode": {
    "name": "ipython",
    "version": 3
   },
   "file_extension": ".py",
   "mimetype": "text/x-python",
   "name": "python",
   "nbconvert_exporter": "python",
   "pygments_lexer": "ipython3",
   "version": "3.10.4"
  },
  "orig_nbformat": 4,
  "vscode": {
   "interpreter": {
    "hash": "bbc3c3d932324566a9bf4b4a52ddf64063695fc3adbf25b3fda92572428493bb"
   }
  }
 },
 "nbformat": 4,
 "nbformat_minor": 2
}
