{
 "cells": [
  {
   "cell_type": "code",
   "execution_count": 3,
   "metadata": {},
   "outputs": [
    {
     "ename": "ValueError",
     "evalue": "`ydata` must not be empty!",
     "output_type": "error",
     "traceback": [
      "\u001b[1;31m---------------------------------------------------------------------------\u001b[0m",
      "\u001b[1;31mValueError\u001b[0m                                Traceback (most recent call last)",
      "Cell \u001b[1;32mIn[3], line 28\u001b[0m\n\u001b[0;32m     25\u001b[0m r_log_over_R_1\u001b[39m=\u001b[39mnp\u001b[39m.\u001b[39mlog(r\u001b[39m/\u001b[39mR_1)\n\u001b[0;32m     26\u001b[0m r_log_incer\u001b[39m=\u001b[39m(\u001b[39m1\u001b[39m\u001b[39m/\u001b[39mR_1)\u001b[39m*\u001b[39m(\u001b[39m1\u001b[39m\u001b[39m/\u001b[39mr)\u001b[39m*\u001b[39mr_incer\u001b[39m+\u001b[39m(r\u001b[39m/\u001b[39mR_1\u001b[39m*\u001b[39m\u001b[39m*\u001b[39m\u001b[39m2\u001b[39m)\u001b[39m*\u001b[39m(\u001b[39m1\u001b[39m\u001b[39m/\u001b[39mR_1)\u001b[39m*\u001b[39mR_1_incer  \u001b[39m#à vérifier\u001b[39;00m\n\u001b[1;32m---> 28\u001b[0m param,pcov\u001b[39m=\u001b[39mcurve_fit(f1,r_log_over_R_1,V,sigma\u001b[39m=\u001b[39;49mr_log_incer)\n\u001b[0;32m     29\u001b[0m (C_exp,V_0_exp)\u001b[39m=\u001b[39m(param[\u001b[39m0\u001b[39m],param[\u001b[39m1\u001b[39m])\n\u001b[0;32m     30\u001b[0m incer_exp\u001b[39m=\u001b[39mnp\u001b[39m.\u001b[39msqrt(np\u001b[39m.\u001b[39mdiag(pcov))\n",
      "File \u001b[1;32m~\\AppData\\Local\\Packages\\PythonSoftwareFoundation.Python.3.10_qbz5n2kfra8p0\\LocalCache\\local-packages\\Python310\\site-packages\\scipy\\optimize\\_minpack_py.py:795\u001b[0m, in \u001b[0;36mcurve_fit\u001b[1;34m(f, xdata, ydata, p0, sigma, absolute_sigma, check_finite, bounds, method, jac, full_output, **kwargs)\u001b[0m\n\u001b[0;32m    792\u001b[0m         xdata \u001b[39m=\u001b[39m np\u001b[39m.\u001b[39masarray(xdata, \u001b[39mfloat\u001b[39m)\n\u001b[0;32m    794\u001b[0m \u001b[39mif\u001b[39;00m ydata\u001b[39m.\u001b[39msize \u001b[39m==\u001b[39m \u001b[39m0\u001b[39m:\n\u001b[1;32m--> 795\u001b[0m     \u001b[39mraise\u001b[39;00m \u001b[39mValueError\u001b[39;00m(\u001b[39m\"\u001b[39m\u001b[39m`ydata` must not be empty!\u001b[39m\u001b[39m\"\u001b[39m)\n\u001b[0;32m    797\u001b[0m \u001b[39m# Determine type of sigma\u001b[39;00m\n\u001b[0;32m    798\u001b[0m \u001b[39mif\u001b[39;00m sigma \u001b[39mis\u001b[39;00m \u001b[39mnot\u001b[39;00m \u001b[39mNone\u001b[39;00m:\n",
      "\u001b[1;31mValueError\u001b[0m: `ydata` must not be empty!"
     ]
    }
   ],
   "source": [
    "import numpy as np\n",
    "import matplotlib.pyplot as plt\n",
    "from tqdm import tqdm\n",
    "from scipy.special import gamma\n",
    "import pandas as pd\n",
    "from scipy.optimize import curve_fit\n",
    "\n",
    "R_1=6\n",
    "R_1_incer=0.05\n",
    "R_2=16\n",
    "R_2_incer=0.05\n",
    "\n",
    "\n",
    "def f1(r_ln_over_R1,C,V_0):\n",
    "    return C*r_ln_over_R1+V_0\n",
    "\n",
    "V=np.array([])\n",
    "V_incer=np.array([])\n",
    "\n",
    "\n",
    "\n",
    "r=np.array([])\n",
    "r_incer=np.array([])\n",
    "\n",
    "r_log_over_R_1=np.log(r/R_1)\n",
    "r_log_incer=(1/R_1)*(1/r)*r_incer+(r/R_1**2)*(1/R_1)*R_1_incer  #à vérifier\n",
    "\n",
    "param,pcov=curve_fit(f1,r_log_over_R_1,V,sigma=r_log_incer)\n",
    "(C_exp,V_0_exp)=(param[0],param[1])\n",
    "incer_exp=np.sqrt(np.diag(pcov))\n",
    "(C_exp_incer,V_0_exp_incer)=(incer_exp[0],incer_exp[1])\n",
    "\n",
    "r__log_ajust=np.log(np.linspace(R_1,R_2,200)/R_1)\n",
    "\n",
    "\n",
    "fig=plt.figure()\n",
    "plt.rcParams['figure.figsize']=[15,10]\n",
    "ax1=fig.add_subplot(121)\n",
    "ax2=fig.add_subplot(122)\n",
    "\n",
    "ax1.errorbar(r,V,yerr=V_incer,xerr=r_incer,fmt='None')\n",
    "\n",
    "\n",
    "ax2.errorbar(r_log_over_R_1,V,yerr=V_incer,xerr=r_log_incer,fmt='None')\n",
    "ax2.plot(r__log_ajust,f1(r__log_ajust,C_exp,V_0_exp),label=f\"Ajustement linéarie a*x+b avec a={C_exp}+/-{C_exp_incer} et b={V_0_exp}+/-{V_0_exp_incer}\")\n",
    "\n",
    "\n",
    "ax1.set_ylabel(\"V (en V)\")\n",
    "ax1.set_xlabel(\"r (en cm)\")\n",
    "ax1.legend()\n",
    "\n",
    "ax2.set_ylabel(\"V (en V)\")\n",
    "ax2.set_xlabel(\"ln(r) (en cm)\")\n",
    "ax2.legend()\n",
    "\n",
    "plt.show()\n",
    "\n",
    "\n",
    "\n",
    "\n"
   ]
  },
  {
   "cell_type": "code",
   "execution_count": 7,
   "metadata": {},
   "outputs": [
    {
     "name": "stderr",
     "output_type": "stream",
     "text": [
      "C:\\Users\\flore\\AppData\\Local\\Temp\\ipykernel_12680\\3885101898.py:4: FutureWarning: In future versions `DataFrame.to_latex` is expected to utilise the base implementation of `Styler.to_latex` for formatting and rendering. The arguments signature may therefore change. It is recommended instead to use `DataFrame.style.to_latex` which also contains additional functionality.\n",
      "  f.write(df.to_latex(column_format='|c|c|',index=False,columns=['V(V)','r(cm)']))\n"
     ]
    }
   ],
   "source": [
    "data={'V(V)':V,'deltaV(V)':V_incer,'r(cm)':r,'deltar(cm)':r_incer}\n",
    "df=pd.DataFrame(data=data)\n",
    "with open(\"Tableau.txt\",\"w\") as f:\n",
    "    f.write(df.to_latex(column_format='|c|c|',index=False,columns=['V(V)','r(cm)']))"
   ]
  },
  {
   "cell_type": "code",
   "execution_count": null,
   "metadata": {},
   "outputs": [],
   "source": [
    "df2=pd.read_csv(\".csv\")\n",
    "V2=(df['V'].values)"
   ]
  }
 ],
 "metadata": {
  "kernelspec": {
   "display_name": "Python 3",
   "language": "python",
   "name": "python3"
  },
  "language_info": {
   "codemirror_mode": {
    "name": "ipython",
    "version": 3
   },
   "file_extension": ".py",
   "mimetype": "text/x-python",
   "name": "python",
   "nbconvert_exporter": "python",
   "pygments_lexer": "ipython3",
   "version": "3.10.9"
  },
  "orig_nbformat": 4,
  "vscode": {
   "interpreter": {
    "hash": "b540948fbc9dafb04ad72967d6c30d941d65063e4d4e2ad9147c4c8085193b43"
   }
  }
 },
 "nbformat": 4,
 "nbformat_minor": 2
}
