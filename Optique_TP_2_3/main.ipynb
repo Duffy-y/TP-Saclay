{
 "cells": [
  {
   "cell_type": "code",
   "execution_count": 1,
   "metadata": {},
   "outputs": [],
   "source": [
    "import ldd\n",
    "import numpy as np\n",
    "import matplotlib.pyplot as plt\n",
    "from uncertainties import ufloat, unumpy, umath\n",
    "\n",
    "def largeur(wavelength, D, a):\n",
    "    return 2 * wavelength * D / a"
   ]
  },
  {
   "cell_type": "code",
   "execution_count": 2,
   "metadata": {},
   "outputs": [],
   "source": [
    "\"\"\"\n",
    "    Influence de la largeur de la fente\n",
    "\"\"\"\n",
    "\n",
    "D_1 = ufloat(10, std_dev=0.1) * 10**(-2)\n",
    "lambda_1 = ufloat(492, std_dev=0.1) * 10**(-9)\n",
    "a_1 = unumpy.uarray([1, 2, 3], std_devs=0.1) * 10**(-6)\n",
    "\n",
    "L_mesure_1 = unumpy.uarray([1, 1, 1], std_devs=0.1) * 10**(-2)\n",
    "L_th_1 = largeur(lambda_1, D_1, a_1)"
   ]
  },
  {
   "cell_type": "code",
   "execution_count": 3,
   "metadata": {},
   "outputs": [],
   "source": [
    "\"\"\"\n",
    "    Influence de la longueur d'onde\n",
    "\"\"\"\n",
    "\n",
    "D_2 = ufloat(10, std_dev=0.1) * 10**(-2)\n",
    "lambda_2 = unumpy.uarray([462, 492, 600], std_devs=0.1) * 10**(-9)\n",
    "a_2 = ufloat(80, std_dev=0.1) * 10**(-6)\n",
    "\n",
    "L_mesure_2 = unumpy.uarray([1, 1, 1], std_devs=0.1) * 10**(-2)\n",
    "L_th_2 = largeur(lambda_2, D_2, a_2)"
   ]
  },
  {
   "cell_type": "code",
   "execution_count": 4,
   "metadata": {},
   "outputs": [],
   "source": [
    "\"\"\"\n",
    "    Influence de la distance ecran-fente\n",
    "\"\"\"\n",
    "\n",
    "D_3 =  unumpy.uarray([100, 110, 120, 130], std_devs=0.1) * 10**(-2)\n",
    "lambda_3 = ufloat(492, std_dev=10) * 10**(-9)\n",
    "a_3 = ufloat(80, std_dev=0.1) * 10**(-6)\n",
    "\n",
    "L_mesure_3 = unumpy.uarray([1, 1, 1], std_devs=0.1) * 10**(-2)\n",
    "L_th_3 = largeur(lambda_3, D_3, a_3)"
   ]
  },
  {
   "cell_type": "code",
   "execution_count": 5,
   "metadata": {},
   "outputs": [
    {
     "data": {
      "text/plain": [
       "'\\n    Calcul et synthèse des différents résultats\\n'"
      ]
     },
     "execution_count": 5,
     "metadata": {},
     "output_type": "execute_result"
    }
   ],
   "source": [
    "\"\"\"\n",
    "    Calcul et synthèse des différents résultats\n",
    "\"\"\"\n",
    "\n",
    "ldd.plot_error(L_th_1, L_mesure_1, label=\"Largeur de fente variable\")\n",
    "ldd.plot_error(L_th_2, L_mesure_2, label=\"Longueur d'onde variable\")\n",
    "ldd.plot_error(L_th_3, L_mesure_3, label=\"Distance fente-ecran variable\")\n",
    "\n",
    "plt.xlabel(\"Largeur de tâche centrale théorique (en m)\")\n",
    "plt.ylabel(\"Largeur de tâche centrale expérimentale (en m)\")\n",
    "plt.show()\n"
   ]
  }
 ],
 "metadata": {
  "kernelspec": {
   "display_name": "Python 3",
   "language": "python",
   "name": "python3"
  },
  "language_info": {
   "codemirror_mode": {
    "name": "ipython",
    "version": 3
   },
   "file_extension": ".py",
   "mimetype": "text/x-python",
   "name": "python",
   "nbconvert_exporter": "python",
   "pygments_lexer": "ipython3",
   "version": "3.10.4"
  },
  "orig_nbformat": 4,
  "vscode": {
   "interpreter": {
    "hash": "bbc3c3d932324566a9bf4b4a52ddf64063695fc3adbf25b3fda92572428493bb"
   }
  }
 },
 "nbformat": 4,
 "nbformat_minor": 2
}
